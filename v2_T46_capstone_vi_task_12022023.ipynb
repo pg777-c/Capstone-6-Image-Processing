{
 "cells": [
  {
   "cell_type": "code",
   "execution_count": 210,
   "metadata": {},
   "outputs": [],
   "source": [
    "import numpy as np\n",
    "import pandas as pd\n",
    "import matplotlib.pyplot as plt\n",
    "from sklearn.model_selection import train_test_split\n",
    "from sklearn.ensemble import RandomForestClassifier\n",
    "from sklearn.metrics import accuracy_score\n",
    "from sklearn.metrics import recall_score\n",
    "from sklearn.metrics import precision_score\n",
    "from sklearn.metrics import f1_score\n",
    "\n",
    "import seaborn as sns\n",
    "%matplotlib inline"
   ]
  },
  {
   "attachments": {},
   "cell_type": "markdown",
   "metadata": {},
   "source": [
    " I WATCHED THE SAVED LECTURE AND THE FOLLOW-UP LECTURE ON THIS TASK AND THE LECTURER WAS NOT ABLE TO DOWNLOAD AND WORK WITH THE MNIST DATA BECAUSE IT REQUIRED RESHAPING AND THERE WAS NO CLEAR SOLUTION. I ALSO LOOKED AT SOME OF THE SUPPLEMENTARY LECTURES BUT THEY WERE DATED BEFORE THIS SUBJECT AND WERE NOT CLEARLY LABELED. I TRIED TO WATCH A SUPPLEMENTARY LECTURE TO SEE IF IT COVERED THIS TOPIC BUT THE AUDIO QUALITY WAS SO BAD IT WAS INAUDIBLE.\n",
    "\n",
    " I SPENT 2-DAYS TRYING TO SOLVE THIS PROBLEM BY TRYING TO USE GOOGLE COLAB AND TENSORFLOW AND KERAS.\n",
    " \n",
    " KERAS HAS AN INBUILT FEATURE TO READ MNIST.\n",
    "\n",
    " THERE WERE MANY PROBLEMS IMPORTING AND USING TENSORFLOW AND KERAS. EVEN GOOGLE COLAB DOES NOT HAVE ALL PACKAGES PRE-INSTALLED, SOME TENSORFLOW PACKAGE REQUIRED !pip install.\n",
    "\n",
    " IT WAS NOT POSSIBLE TO INSTALL TENSORFLOW INTO ANACONDA, AFTER MANY HOURS AND DIFFERENT ATTEMPTS TO INSTALL. KERAS WAS DOWNLOADED TO ANACONDA, BUT IT DID NOT APPEAR IN THE ANACONDA PACKAGE LIST.\n",
    "\n",
    " I LEARNED TO USE TENSORFLOW AND TO RESHAPE THE ARRAY FOR A BASIC MACHINE LEARNING TENSORFLOW MODEL BUT WHEN THE TENSORFLOW VERSION OF 'RANDOM FOREST CLASSIFIER' WAS USED THE MODEL BROKE BECAUSE THE ARRAY WAS MIS-SHAPED. VERY DISAPPOINTING.\n",
    "\n",
    " THIS WEBSITE SAID THAT MNIST WAS VERY HARD TO WORK WITH FOR BEGINNERS AND IT WAS BETTER TO USE A csv : https://www.kaggle.com/datasets/oddrationale/mnist-in-csv\n",
    "\n",
    " I DID NOT HAVE ACCESS TO THE HYPERIONDEV DISCORD CHANNEL SO I DO NOT KNOW IF SOMEONE FOUND A DIFFERENT WORKAROUND.\n",
    "\n",
    " THIS TASK IS DONE WITH A csv FILE OF THE TEST DATASET ONLY.\n",
    "\n",
    " THE CSV FILE CAME FROM :\n",
    " https://pjreddie.com/projects/mnist-in-csv/\n",
    "\n",
    " THIS csv FILE WILL BE PLACED INTO A FOLDER TOGETHER WITH THIS NOTEBOOK AND UPLOADED TO DROPBOX."
   ]
  },
  {
   "attachments": {},
   "cell_type": "markdown",
   "metadata": {},
   "source": [
    "## CAPSTONE VI\n",
    "\n",
    "## TASK INSTRUCTIONS: \n",
    "\n",
    "## ● Load the MNIST dataset."
   ]
  },
  {
   "cell_type": "code",
   "execution_count": 211,
   "metadata": {},
   "outputs": [],
   "source": [
    "# Reading final files that was made in previous MNIST Convert.ipynb notebook\n",
    "data = pd.read_csv('mnist_test.csv')"
   ]
  },
  {
   "cell_type": "code",
   "execution_count": 212,
   "metadata": {},
   "outputs": [
    {
     "data": {
      "text/html": [
       "<div>\n",
       "<style scoped>\n",
       "    .dataframe tbody tr th:only-of-type {\n",
       "        vertical-align: middle;\n",
       "    }\n",
       "\n",
       "    .dataframe tbody tr th {\n",
       "        vertical-align: top;\n",
       "    }\n",
       "\n",
       "    .dataframe thead th {\n",
       "        text-align: right;\n",
       "    }\n",
       "</style>\n",
       "<table border=\"1\" class=\"dataframe\">\n",
       "  <thead>\n",
       "    <tr style=\"text-align: right;\">\n",
       "      <th></th>\n",
       "      <th>7</th>\n",
       "      <th>0</th>\n",
       "      <th>0.1</th>\n",
       "      <th>0.2</th>\n",
       "      <th>0.3</th>\n",
       "      <th>0.4</th>\n",
       "      <th>0.5</th>\n",
       "      <th>0.6</th>\n",
       "      <th>0.7</th>\n",
       "      <th>0.8</th>\n",
       "      <th>...</th>\n",
       "      <th>0.658</th>\n",
       "      <th>0.659</th>\n",
       "      <th>0.660</th>\n",
       "      <th>0.661</th>\n",
       "      <th>0.662</th>\n",
       "      <th>0.663</th>\n",
       "      <th>0.664</th>\n",
       "      <th>0.665</th>\n",
       "      <th>0.666</th>\n",
       "      <th>0.667</th>\n",
       "    </tr>\n",
       "  </thead>\n",
       "  <tbody>\n",
       "    <tr>\n",
       "      <th>0</th>\n",
       "      <td>2</td>\n",
       "      <td>0</td>\n",
       "      <td>0</td>\n",
       "      <td>0</td>\n",
       "      <td>0</td>\n",
       "      <td>0</td>\n",
       "      <td>0</td>\n",
       "      <td>0</td>\n",
       "      <td>0</td>\n",
       "      <td>0</td>\n",
       "      <td>...</td>\n",
       "      <td>0</td>\n",
       "      <td>0</td>\n",
       "      <td>0</td>\n",
       "      <td>0</td>\n",
       "      <td>0</td>\n",
       "      <td>0</td>\n",
       "      <td>0</td>\n",
       "      <td>0</td>\n",
       "      <td>0</td>\n",
       "      <td>0</td>\n",
       "    </tr>\n",
       "    <tr>\n",
       "      <th>1</th>\n",
       "      <td>1</td>\n",
       "      <td>0</td>\n",
       "      <td>0</td>\n",
       "      <td>0</td>\n",
       "      <td>0</td>\n",
       "      <td>0</td>\n",
       "      <td>0</td>\n",
       "      <td>0</td>\n",
       "      <td>0</td>\n",
       "      <td>0</td>\n",
       "      <td>...</td>\n",
       "      <td>0</td>\n",
       "      <td>0</td>\n",
       "      <td>0</td>\n",
       "      <td>0</td>\n",
       "      <td>0</td>\n",
       "      <td>0</td>\n",
       "      <td>0</td>\n",
       "      <td>0</td>\n",
       "      <td>0</td>\n",
       "      <td>0</td>\n",
       "    </tr>\n",
       "    <tr>\n",
       "      <th>2</th>\n",
       "      <td>0</td>\n",
       "      <td>0</td>\n",
       "      <td>0</td>\n",
       "      <td>0</td>\n",
       "      <td>0</td>\n",
       "      <td>0</td>\n",
       "      <td>0</td>\n",
       "      <td>0</td>\n",
       "      <td>0</td>\n",
       "      <td>0</td>\n",
       "      <td>...</td>\n",
       "      <td>0</td>\n",
       "      <td>0</td>\n",
       "      <td>0</td>\n",
       "      <td>0</td>\n",
       "      <td>0</td>\n",
       "      <td>0</td>\n",
       "      <td>0</td>\n",
       "      <td>0</td>\n",
       "      <td>0</td>\n",
       "      <td>0</td>\n",
       "    </tr>\n",
       "    <tr>\n",
       "      <th>3</th>\n",
       "      <td>4</td>\n",
       "      <td>0</td>\n",
       "      <td>0</td>\n",
       "      <td>0</td>\n",
       "      <td>0</td>\n",
       "      <td>0</td>\n",
       "      <td>0</td>\n",
       "      <td>0</td>\n",
       "      <td>0</td>\n",
       "      <td>0</td>\n",
       "      <td>...</td>\n",
       "      <td>0</td>\n",
       "      <td>0</td>\n",
       "      <td>0</td>\n",
       "      <td>0</td>\n",
       "      <td>0</td>\n",
       "      <td>0</td>\n",
       "      <td>0</td>\n",
       "      <td>0</td>\n",
       "      <td>0</td>\n",
       "      <td>0</td>\n",
       "    </tr>\n",
       "    <tr>\n",
       "      <th>4</th>\n",
       "      <td>1</td>\n",
       "      <td>0</td>\n",
       "      <td>0</td>\n",
       "      <td>0</td>\n",
       "      <td>0</td>\n",
       "      <td>0</td>\n",
       "      <td>0</td>\n",
       "      <td>0</td>\n",
       "      <td>0</td>\n",
       "      <td>0</td>\n",
       "      <td>...</td>\n",
       "      <td>0</td>\n",
       "      <td>0</td>\n",
       "      <td>0</td>\n",
       "      <td>0</td>\n",
       "      <td>0</td>\n",
       "      <td>0</td>\n",
       "      <td>0</td>\n",
       "      <td>0</td>\n",
       "      <td>0</td>\n",
       "      <td>0</td>\n",
       "    </tr>\n",
       "  </tbody>\n",
       "</table>\n",
       "<p>5 rows × 785 columns</p>\n",
       "</div>"
      ],
      "text/plain": [
       "   7  0  0.1  0.2  0.3  0.4  0.5  0.6  0.7  0.8  ...  0.658  0.659  0.660  \\\n",
       "0  2  0    0    0    0    0    0    0    0    0  ...      0      0      0   \n",
       "1  1  0    0    0    0    0    0    0    0    0  ...      0      0      0   \n",
       "2  0  0    0    0    0    0    0    0    0    0  ...      0      0      0   \n",
       "3  4  0    0    0    0    0    0    0    0    0  ...      0      0      0   \n",
       "4  1  0    0    0    0    0    0    0    0    0  ...      0      0      0   \n",
       "\n",
       "   0.661  0.662  0.663  0.664  0.665  0.666  0.667  \n",
       "0      0      0      0      0      0      0      0  \n",
       "1      0      0      0      0      0      0      0  \n",
       "2      0      0      0      0      0      0      0  \n",
       "3      0      0      0      0      0      0      0  \n",
       "4      0      0      0      0      0      0      0  \n",
       "\n",
       "[5 rows x 785 columns]"
      ]
     },
     "execution_count": 212,
     "metadata": {},
     "output_type": "execute_result"
    }
   ],
   "source": [
    "data.head()"
   ]
  },
  {
   "cell_type": "code",
   "execution_count": 213,
   "metadata": {},
   "outputs": [
    {
     "name": "stdout",
     "output_type": "stream",
     "text": [
      "<class 'pandas.core.frame.DataFrame'>\n",
      "RangeIndex: 9999 entries, 0 to 9998\n",
      "Columns: 785 entries, 7 to 0.667\n",
      "dtypes: int64(785)\n",
      "memory usage: 59.9 MB\n"
     ]
    }
   ],
   "source": [
    "data.info()"
   ]
  },
  {
   "cell_type": "code",
   "execution_count": 214,
   "metadata": {},
   "outputs": [
    {
     "data": {
      "image/png": "[encoded data removed]",
      "text/plain": [
       "<Figure size 640x480 with 16 Axes>"
      ]
     },
     "metadata": {},
     "output_type": "display_data"
    }
   ],
   "source": [
    "## CODE FROM :\n",
    "## https://www.kaggle.com/code/atorin/mnist-digit-recognition-with-random-forests\n",
    "\n",
    "def plotNum(ind):\n",
    "    plt.imshow(np.reshape(np.array(data.iloc[ind,1:]), (28, 28)), cmap=\"gray\")\n",
    "\n",
    "plt.figure()\n",
    "for ii in range(1,17):\n",
    "    plt.subplot(4,4,ii)\n",
    "    plotNum(ii)"
   ]
  },
  {
   "attachments": {},
   "cell_type": "markdown",
   "metadata": {},
   "source": [
    "## TASK INSTRUCTIONS: \n",
    "\n",
    "## ● Split the data into a training, development, and test set."
   ]
  },
  {
   "cell_type": "code",
   "execution_count": 215,
   "metadata": {},
   "outputs": [],
   "source": [
    "## CODE FROM :\n",
    "## https://github.com/Aakriti5/Random-Forest-Classifier/blob/master/Image%20_classification_project.ipynb\n",
    "\n",
    "# extracting data from the dataset\n",
    "a = data.iloc[3,1:].values\n",
    "#reshaping the extracted data into a reasonable size\n",
    "a = a.reshape(28,28).astype('uint8')"
   ]
  },
  {
   "cell_type": "code",
   "execution_count": 216,
   "metadata": {},
   "outputs": [],
   "source": [
    "# selecting all rows and the second column onwards for x (data)\n",
    "# selecting all rows and the first column for y (index)\n",
    "df_x = data.iloc[:,1:]\n",
    "df_y = data.iloc[:,0]"
   ]
  },
  {
   "cell_type": "code",
   "execution_count": 217,
   "metadata": {},
   "outputs": [],
   "source": [
    "#creating test and train sizes/batches\n",
    "x_train, x_test, y_train, y_test = train_test_split(df_x, df_y, test_size = 0.2, random_state=42)"
   ]
  },
  {
   "cell_type": "code",
   "execution_count": 218,
   "metadata": {},
   "outputs": [
    {
     "data": {
      "text/html": [
       "<div>\n",
       "<style scoped>\n",
       "    .dataframe tbody tr th:only-of-type {\n",
       "        vertical-align: middle;\n",
       "    }\n",
       "\n",
       "    .dataframe tbody tr th {\n",
       "        vertical-align: top;\n",
       "    }\n",
       "\n",
       "    .dataframe thead th {\n",
       "        text-align: right;\n",
       "    }\n",
       "</style>\n",
       "<table border=\"1\" class=\"dataframe\">\n",
       "  <thead>\n",
       "    <tr style=\"text-align: right;\">\n",
       "      <th></th>\n",
       "      <th>0</th>\n",
       "      <th>0.1</th>\n",
       "      <th>0.2</th>\n",
       "      <th>0.3</th>\n",
       "      <th>0.4</th>\n",
       "      <th>0.5</th>\n",
       "      <th>0.6</th>\n",
       "      <th>0.7</th>\n",
       "      <th>0.8</th>\n",
       "      <th>0.9</th>\n",
       "      <th>...</th>\n",
       "      <th>0.658</th>\n",
       "      <th>0.659</th>\n",
       "      <th>0.660</th>\n",
       "      <th>0.661</th>\n",
       "      <th>0.662</th>\n",
       "      <th>0.663</th>\n",
       "      <th>0.664</th>\n",
       "      <th>0.665</th>\n",
       "      <th>0.666</th>\n",
       "      <th>0.667</th>\n",
       "    </tr>\n",
       "  </thead>\n",
       "  <tbody>\n",
       "    <tr>\n",
       "      <th>9253</th>\n",
       "      <td>0</td>\n",
       "      <td>0</td>\n",
       "      <td>0</td>\n",
       "      <td>0</td>\n",
       "      <td>0</td>\n",
       "      <td>0</td>\n",
       "      <td>0</td>\n",
       "      <td>0</td>\n",
       "      <td>0</td>\n",
       "      <td>0</td>\n",
       "      <td>...</td>\n",
       "      <td>0</td>\n",
       "      <td>0</td>\n",
       "      <td>0</td>\n",
       "      <td>0</td>\n",
       "      <td>0</td>\n",
       "      <td>0</td>\n",
       "      <td>0</td>\n",
       "      <td>0</td>\n",
       "      <td>0</td>\n",
       "      <td>0</td>\n",
       "    </tr>\n",
       "    <tr>\n",
       "      <th>1561</th>\n",
       "      <td>0</td>\n",
       "      <td>0</td>\n",
       "      <td>0</td>\n",
       "      <td>0</td>\n",
       "      <td>0</td>\n",
       "      <td>0</td>\n",
       "      <td>0</td>\n",
       "      <td>0</td>\n",
       "      <td>0</td>\n",
       "      <td>0</td>\n",
       "      <td>...</td>\n",
       "      <td>0</td>\n",
       "      <td>0</td>\n",
       "      <td>0</td>\n",
       "      <td>0</td>\n",
       "      <td>0</td>\n",
       "      <td>0</td>\n",
       "      <td>0</td>\n",
       "      <td>0</td>\n",
       "      <td>0</td>\n",
       "      <td>0</td>\n",
       "    </tr>\n",
       "    <tr>\n",
       "      <th>1670</th>\n",
       "      <td>0</td>\n",
       "      <td>0</td>\n",
       "      <td>0</td>\n",
       "      <td>0</td>\n",
       "      <td>0</td>\n",
       "      <td>0</td>\n",
       "      <td>0</td>\n",
       "      <td>0</td>\n",
       "      <td>0</td>\n",
       "      <td>0</td>\n",
       "      <td>...</td>\n",
       "      <td>0</td>\n",
       "      <td>0</td>\n",
       "      <td>0</td>\n",
       "      <td>0</td>\n",
       "      <td>0</td>\n",
       "      <td>0</td>\n",
       "      <td>0</td>\n",
       "      <td>0</td>\n",
       "      <td>0</td>\n",
       "      <td>0</td>\n",
       "    </tr>\n",
       "    <tr>\n",
       "      <th>6086</th>\n",
       "      <td>0</td>\n",
       "      <td>0</td>\n",
       "      <td>0</td>\n",
       "      <td>0</td>\n",
       "      <td>0</td>\n",
       "      <td>0</td>\n",
       "      <td>0</td>\n",
       "      <td>0</td>\n",
       "      <td>0</td>\n",
       "      <td>0</td>\n",
       "      <td>...</td>\n",
       "      <td>0</td>\n",
       "      <td>0</td>\n",
       "      <td>0</td>\n",
       "      <td>0</td>\n",
       "      <td>0</td>\n",
       "      <td>0</td>\n",
       "      <td>0</td>\n",
       "      <td>0</td>\n",
       "      <td>0</td>\n",
       "      <td>0</td>\n",
       "    </tr>\n",
       "    <tr>\n",
       "      <th>7332</th>\n",
       "      <td>0</td>\n",
       "      <td>0</td>\n",
       "      <td>0</td>\n",
       "      <td>0</td>\n",
       "      <td>0</td>\n",
       "      <td>0</td>\n",
       "      <td>0</td>\n",
       "      <td>0</td>\n",
       "      <td>0</td>\n",
       "      <td>0</td>\n",
       "      <td>...</td>\n",
       "      <td>0</td>\n",
       "      <td>0</td>\n",
       "      <td>0</td>\n",
       "      <td>0</td>\n",
       "      <td>0</td>\n",
       "      <td>0</td>\n",
       "      <td>0</td>\n",
       "      <td>0</td>\n",
       "      <td>0</td>\n",
       "      <td>0</td>\n",
       "    </tr>\n",
       "  </tbody>\n",
       "</table>\n",
       "<p>5 rows × 784 columns</p>\n",
       "</div>"
      ],
      "text/plain": [
       "      0  0.1  0.2  0.3  0.4  0.5  0.6  0.7  0.8  0.9  ...  0.658  0.659  \\\n",
       "9253  0    0    0    0    0    0    0    0    0    0  ...      0      0   \n",
       "1561  0    0    0    0    0    0    0    0    0    0  ...      0      0   \n",
       "1670  0    0    0    0    0    0    0    0    0    0  ...      0      0   \n",
       "6086  0    0    0    0    0    0    0    0    0    0  ...      0      0   \n",
       "7332  0    0    0    0    0    0    0    0    0    0  ...      0      0   \n",
       "\n",
       "      0.660  0.661  0.662  0.663  0.664  0.665  0.666  0.667  \n",
       "9253      0      0      0      0      0      0      0      0  \n",
       "1561      0      0      0      0      0      0      0      0  \n",
       "1670      0      0      0      0      0      0      0      0  \n",
       "6086      0      0      0      0      0      0      0      0  \n",
       "7332      0      0      0      0      0      0      0      0  \n",
       "\n",
       "[5 rows x 784 columns]"
      ]
     },
     "execution_count": 218,
     "metadata": {},
     "output_type": "execute_result"
    }
   ],
   "source": [
    "#check data\n",
    "x_train.head()"
   ]
  },
  {
   "attachments": {},
   "cell_type": "markdown",
   "metadata": {},
   "source": [
    "## TASK INSTRUCTIONS: \n",
    "\n",
    "## ○ Add a comment explaining the purpose of the train, development and test sets."
   ]
  },
  {
   "attachments": {},
   "cell_type": "markdown",
   "metadata": {},
   "source": [
    "  THE TRAINING SET IS FOR MODELING, THE DEVELOPMENT SET IS FOR IMPROVING THE MODEL FIT AND THE TEST SET IS FOR VALIDATION PURPOSES.\n",
    "\n",
    "  THE TEST SET IS KEPT BACK FROM THE TRAINING SET SO THAT WE CAN CHECK THE DEGREE THAT THE MODEL WORKS BY CORRECTLY MAKING PREDICTIONS.\n",
    "\n",
    "  THE DEVELOPMENT SET HAS A FUNCTION IN JUDGING THE PREDICTIONS TO MAKE ADJUSTMENTS TO THE PARAMETERS TO AVOID OVERFITTING WHICH MAKES A VERY ACCURATE MODEL THAT IS UNABLE TO WORK OUTSIDE OF THE DATASET.\n",
    "\n",
    "VIZ: https://towardsdatascience.com/how-to-split-a-tensorflow-dataset-into-train-validation-and-test-sets-526c8dd29438"
   ]
  },
  {
   "cell_type": "code",
   "execution_count": 219,
   "metadata": {},
   "outputs": [],
   "source": [
    "# CODE TO SPLIT TRAINING SET INTO A TRAINING + DEVELOPMENT SET\n",
    "# CODE FROM : \n",
    "# https://stackoverflow.com/questions/3674409/how-to-split-partition-a-dataset-into-training-and-test-datasets-for-e-g-cros\n",
    "\n",
    "x_dev, x_test, y_dev, y_test = train_test_split(x_test, y_test, test_size=0.5, random_state=42)"
   ]
  },
  {
   "cell_type": "code",
   "execution_count": 220,
   "metadata": {},
   "outputs": [
    {
     "name": "stdout",
     "output_type": "stream",
     "text": [
      "THIS IS THE DATASET OF IMAGES :- \n",
      "X_train: (7999, 784)\n",
      "Y_train: (7999,)\n",
      "X_test:  (1000, 784)\n",
      "Y_test:  (1000,)\n",
      "\n",
      "THIS IS THE DEVELOPMENT SET\n",
      "\n",
      "X_Dev:  (1000, 784)\n",
      "Y_Dev: (1000,)\n"
     ]
    }
   ],
   "source": [
    "print('THIS IS THE DATASET OF IMAGES :- ')\n",
    "print('X_train: ' + str(x_train.shape))\n",
    "print('Y_train: ' + str(y_train.shape))\n",
    "print('X_test:  '  + str(x_test.shape))\n",
    "print('Y_test:  '  + str(y_test.shape))\n",
    "print('''\n",
    "THIS IS THE DEVELOPMENT SET\\n''')\n",
    "print('X_Dev:  '  + str(x_dev.shape))\n",
    "print('Y_Dev: ' + str(y_dev.shape))"
   ]
  },
  {
   "attachments": {},
   "cell_type": "markdown",
   "metadata": {},
   "source": [
    "    THE DEVELOPMENT SET  SHOULD BE A 50/50 SPLIT OF THE PREVIOUS TRAINING SET.\n",
    "    THERE ARE 10,000 IMAGES, THE TRAINING/TESTING SET WAS SPLIT 80/20.\n",
    "    NOW THE TESTING SET IS SPLIT 50/50 SO 1,000 IMAGES IN THE TESTING SET AND 1,000 IN THE DEVELOPMENT SET.\n",
    "    THE ABOVE PRINT-OUT LOOKS OKAY, BUT I DON'T REALLY UNDERSTAND IT, SO IT MIGHT BE A WARNING FLAG."
   ]
  },
  {
   "attachments": {},
   "cell_type": "markdown",
   "metadata": {},
   "source": [
    "## TASK INSTRUCTIONS:\n",
    "\n",
    "## ● Use the RandomForestClassifier built into SKLearn."
   ]
  },
  {
   "cell_type": "code",
   "execution_count": 221,
   "metadata": {},
   "outputs": [
    {
     "data": {
      "text/plain": [
       "350    0.010286\n",
       "290    0.009826\n",
       "378    0.009021\n",
       "409    0.008498\n",
       "377    0.007780\n",
       "         ...   \n",
       "308    0.000000\n",
       "336    0.000000\n",
       "337    0.000000\n",
       "338    0.000000\n",
       "783    0.000000\n",
       "Length: 784, dtype: float64"
      ]
     },
     "execution_count": 221,
     "metadata": {},
     "output_type": "execute_result"
    }
   ],
   "source": [
    "### Importance scores\n",
    "#A property of the Random Forest ensemble method in sklearn is that they let you print importance scores for features in the dataset. \n",
    "\n",
    "forest = RandomForestClassifier(n_estimators=200, max_depth=20)\n",
    "forest.fit(x_train, y_train)\n",
    "\n",
    "feature_imp = pd.Series(forest.feature_importances_).sort_values(ascending=False)\n",
    "feature_imp"
   ]
  },
  {
   "cell_type": "code",
   "execution_count": 222,
   "metadata": {},
   "outputs": [
    {
     "name": "stdout",
     "output_type": "stream",
     "text": [
      "Accuracy: 0.949\n"
     ]
    }
   ],
   "source": [
    "# prediction on test set\n",
    "y_pred = forest.predict(x_test)\n",
    "\n",
    "# Calculate Model Accuracy,\n",
    "print(\"Accuracy:\", accuracy_score(y_test, y_pred))"
   ]
  },
  {
   "cell_type": "code",
   "execution_count": 223,
   "metadata": {},
   "outputs": [
    {
     "data": {
      "text/html": [
       "<div>\n",
       "<style scoped>\n",
       "    .dataframe tbody tr th:only-of-type {\n",
       "        vertical-align: middle;\n",
       "    }\n",
       "\n",
       "    .dataframe tbody tr th {\n",
       "        vertical-align: top;\n",
       "    }\n",
       "\n",
       "    .dataframe thead th {\n",
       "        text-align: right;\n",
       "    }\n",
       "</style>\n",
       "<table border=\"1\" class=\"dataframe\">\n",
       "  <thead>\n",
       "    <tr style=\"text-align: right;\">\n",
       "      <th></th>\n",
       "      <th>feature</th>\n",
       "      <th>importance</th>\n",
       "    </tr>\n",
       "  </thead>\n",
       "  <tbody>\n",
       "    <tr>\n",
       "      <th>350</th>\n",
       "      <td>0.297</td>\n",
       "      <td>0.010286</td>\n",
       "    </tr>\n",
       "    <tr>\n",
       "      <th>290</th>\n",
       "      <td>0.252</td>\n",
       "      <td>0.009826</td>\n",
       "    </tr>\n",
       "    <tr>\n",
       "      <th>378</th>\n",
       "      <td>0.321</td>\n",
       "      <td>0.009021</td>\n",
       "    </tr>\n",
       "    <tr>\n",
       "      <th>409</th>\n",
       "      <td>249</td>\n",
       "      <td>0.008498</td>\n",
       "    </tr>\n",
       "    <tr>\n",
       "      <th>377</th>\n",
       "      <td>0.320</td>\n",
       "      <td>0.007780</td>\n",
       "    </tr>\n",
       "    <tr>\n",
       "      <th>...</th>\n",
       "      <td>...</td>\n",
       "      <td>...</td>\n",
       "    </tr>\n",
       "    <tr>\n",
       "      <th>308</th>\n",
       "      <td>0.259</td>\n",
       "      <td>0.000000</td>\n",
       "    </tr>\n",
       "    <tr>\n",
       "      <th>336</th>\n",
       "      <td>0.283</td>\n",
       "      <td>0.000000</td>\n",
       "    </tr>\n",
       "    <tr>\n",
       "      <th>337</th>\n",
       "      <td>0.284</td>\n",
       "      <td>0.000000</td>\n",
       "    </tr>\n",
       "    <tr>\n",
       "      <th>338</th>\n",
       "      <td>0.285</td>\n",
       "      <td>0.000000</td>\n",
       "    </tr>\n",
       "    <tr>\n",
       "      <th>783</th>\n",
       "      <td>0.667</td>\n",
       "      <td>0.000000</td>\n",
       "    </tr>\n",
       "  </tbody>\n",
       "</table>\n",
       "<p>784 rows × 2 columns</p>\n",
       "</div>"
      ],
      "text/plain": [
       "    feature  importance\n",
       "350   0.297    0.010286\n",
       "290   0.252    0.009826\n",
       "378   0.321    0.009021\n",
       "409     249    0.008498\n",
       "377   0.320    0.007780\n",
       "..      ...         ...\n",
       "308   0.259    0.000000\n",
       "336   0.283    0.000000\n",
       "337   0.284    0.000000\n",
       "338   0.285    0.000000\n",
       "783   0.667    0.000000\n",
       "\n",
       "[784 rows x 2 columns]"
      ]
     },
     "execution_count": 223,
     "metadata": {},
     "output_type": "execute_result"
    }
   ],
   "source": [
    "# https://www.freecodecamp.org/news/how-to-use-the-tree-based-algorithm-for-machine-learning/\n",
    "# check Important features\n",
    "feature_importances_df = pd.DataFrame(\n",
    "    {\"feature\": list(df_x.columns), \"importance\": forest.feature_importances_}\n",
    ").sort_values(\"importance\", ascending=False)\n",
    "\n",
    "# Display\n",
    "feature_importances_df"
   ]
  },
  {
   "attachments": {},
   "cell_type": "markdown",
   "metadata": {},
   "source": [
    "## TASK INSTRUCTIONS:\n",
    "\n",
    "## ● Pick one parameter to tune, and explain why you chose this parameter."
   ]
  },
  {
   "attachments": {},
   "cell_type": "markdown",
   "metadata": {},
   "source": [
    "    I only used 2-parameters for the Random Forest Classifier, these are; n_estimators and max_depth.\n",
    "\n",
    "    I will will pick n_estimators because the n_estimator parameter controls the number of trees inside the classifier."
   ]
  },
  {
   "attachments": {},
   "cell_type": "markdown",
   "metadata": {},
   "source": [
    "## TASK INSTRUCTIONS:\n",
    "\n",
    "## ● Choose which value for the parameter to set for testing on the test data and explain why."
   ]
  },
  {
   "attachments": {},
   "cell_type": "markdown",
   "metadata": {},
   "source": [
    "    I will choose a value of 100 for n_estimators because it is half the value of the original and I anticipate something would change in the output score."
   ]
  },
  {
   "cell_type": "code",
   "execution_count": 224,
   "metadata": {},
   "outputs": [
    {
     "data": {
      "text/plain": [
       "RandomForestClassifier(max_depth=20)"
      ]
     },
     "execution_count": 224,
     "metadata": {},
     "output_type": "execute_result"
    }
   ],
   "source": [
    "forest_v2 = RandomForestClassifier(n_estimators=100, max_depth=20)\n",
    "forest_v2.fit(x_train, y_train)"
   ]
  },
  {
   "cell_type": "code",
   "execution_count": 225,
   "metadata": {},
   "outputs": [
    {
     "name": "stdout",
     "output_type": "stream",
     "text": [
      "Accuracy: 0.942\n"
     ]
    }
   ],
   "source": [
    "# prediction on test set\n",
    "y_pred_v2 = forest_v2.predict(x_test)\n",
    "\n",
    "# Calculate Model Accuracy,\n",
    "print(\"Accuracy:\", accuracy_score(y_test, y_pred_v2))"
   ]
  },
  {
   "attachments": {},
   "cell_type": "markdown",
   "metadata": {},
   "source": [
    "    By changing the original value of n_estimators from 200 to 100, the accuracy score has fallen by 0.1%.\n",
    "    From an accuracy score of 95.6% to 95.5%."
   ]
  },
  {
   "attachments": {},
   "cell_type": "markdown",
   "metadata": {},
   "source": [
    "## TASK INSTRUCTIONS:\n",
    "\n",
    "## ● Print the confusion matrix for your Random Forest model on the test set."
   ]
  },
  {
   "cell_type": "code",
   "execution_count": 226,
   "metadata": {},
   "outputs": [
    {
     "name": "stdout",
     "output_type": "stream",
     "text": [
      "[[ 88   0   0   0   0   2   0   0   0   0]\n",
      " [  0 110   1   0   0   0   0   0   1   0]\n",
      " [  1   0  89   1   1   0   2   1   2   0]\n",
      " [  1   0   3  95   0   2   0   2   0   0]\n",
      " [  0   0   1   0 104   0   1   0   0   1]\n",
      " [  1   3   1   1   0  94   1   0   0   0]\n",
      " [  1   2   0   0   0   0  98   0   0   0]\n",
      " [  0   0   3   0   0   0   0  87   1   1]\n",
      " [  0   0   0   4   1   0   0   0  88   0]\n",
      " [  0   1   1   0   4   0   0   2   0  96]]\n"
     ]
    }
   ],
   "source": [
    "from sklearn.metrics import confusion_matrix\n",
    "confusion_matrix = confusion_matrix(y_test, y_pred)\n",
    "print(confusion_matrix)"
   ]
  },
  {
   "cell_type": "code",
   "execution_count": 227,
   "metadata": {},
   "outputs": [
    {
     "data": {
      "text/plain": [
       "Text(0.5, 1.0, 'Confusion Matrix')"
      ]
     },
     "execution_count": 227,
     "metadata": {},
     "output_type": "execute_result"
    },
    {
     "data": {
      "image/png": "[encoded data removed]",
      "text/plain": [
       "<Figure size 1500x1000 with 2 Axes>"
      ]
     },
     "metadata": {},
     "output_type": "display_data"
    }
   ],
   "source": [
    "# CODE FROM : ???\n",
    "cf_matrix = confusion_matrix\n",
    "fig, ax = plt.subplots(figsize=(15,10)) \n",
    "sns.heatmap(cf_matrix, linewidths=1, annot=True, ax=ax, fmt='g')\n",
    "plt.title('Confusion Matrix', fontsize=20)"
   ]
  },
  {
   "attachments": {},
   "cell_type": "markdown",
   "metadata": {},
   "source": [
    "## TASK INSTRUCTIONS:\n",
    "\n",
    "## ● Report which classes the model struggles with the most."
   ]
  },
  {
   "attachments": {},
   "cell_type": "markdown",
   "metadata": {},
   "source": [
    "    It looks like this model struggles with the digit '1' the most because it shows the highest number => 111."
   ]
  },
  {
   "attachments": {},
   "cell_type": "markdown",
   "metadata": {},
   "source": [
    "## TASK INSTRUCTIONS:\n",
    "\n",
    "## ● Report the accuracy, precision, recall, and f1-score."
   ]
  },
  {
   "cell_type": "code",
   "execution_count": 228,
   "metadata": {},
   "outputs": [
    {
     "name": "stdout",
     "output_type": "stream",
     "text": [
      "Precision: 0.949\n"
     ]
    }
   ],
   "source": [
    "# CODE FROM :\n",
    "# https://vitalflux.com/accuracy-precision-recall-f1-score-python-example/\n",
    "\n",
    "# from sklearn.metrics import precision_score \n",
    "print('Precision: %.3f' % precision_score(y_test, y_pred, average='micro'))\n",
    "## this required the 'average=' parameter to work, it is quite complicated/nuanced\n",
    "## https://stackoverflow.com/questions/31421413/how-to-compute-precision-recall-accuracy-and-f1-score-for-the-multiclass-case"
   ]
  },
  {
   "cell_type": "code",
   "execution_count": 229,
   "metadata": {},
   "outputs": [
    {
     "name": "stdout",
     "output_type": "stream",
     "text": [
      "Accuracy: 0.949\n"
     ]
    }
   ],
   "source": [
    "from sklearn.metrics import accuracy_score\n",
    "print('Accuracy: %.3f' % accuracy_score(y_test, y_pred))\n",
    "## this required the 'average=' parameter to work, it is quite complicated/nuanced\n",
    "## https://stackoverflow.com/questions/31421413/how-to-compute-precision-recall-accuracy-and-f1-score-for-the-multiclass-case"
   ]
  },
  {
   "cell_type": "code",
   "execution_count": 230,
   "metadata": {},
   "outputs": [
    {
     "name": "stdout",
     "output_type": "stream",
     "text": [
      "Recall: 0.949\n"
     ]
    }
   ],
   "source": [
    "from sklearn.metrics import recall_score\n",
    "print('Recall: %.3f' % recall_score(y_test, y_pred, average='micro'))\n",
    "## this required the 'average=' parameter to work, it is quite complicated/nuanced\n",
    "## https://stackoverflow.com/questions/31421413/how-to-compute-precision-recall-accuracy-and-f1-score-for-the-multiclass-case"
   ]
  },
  {
   "cell_type": "code",
   "execution_count": 231,
   "metadata": {},
   "outputs": [
    {
     "name": "stdout",
     "output_type": "stream",
     "text": [
      "Micro F1-Score:  0.949\n"
     ]
    }
   ],
   "source": [
    "## CODE FROM :\n",
    "## https://www.educative.io/answers/what-is-the-f1score-function-in-sklearn\n",
    "from sklearn.metrics import f1_score\n",
    "score = f1_score(y_test, y_pred, average=\"micro\")\n",
    "print(\"Micro F1-Score: \", score)"
   ]
  },
  {
   "attachments": {},
   "cell_type": "markdown",
   "metadata": {},
   "source": [
    "    The scores are:-\n",
    "\n",
    "    accuracy    = 95.0 %\n",
    "    precision   = 95.0 %\n",
    "    recall      = 95.0 %\n",
    "    f1-score    = 95.00000000000001 %"
   ]
  }
 ],
 "metadata": {
  "kernelspec": {
   "display_name": "base",
   "language": "python",
   "name": "python3"
  },
  "language_info": {
   "codemirror_mode": {
    "name": "ipython",
    "version": 3
   },
   "file_extension": ".py",
   "mimetype": "text/x-python",
   "name": "python",
   "nbconvert_exporter": "python",
   "pygments_lexer": "ipython3",
   "version": "3.9.13"
  },
  "orig_nbformat": 4,
  "vscode": {
   "interpreter": {
    "hash": "0752fb177b1eeacdec12af1ff536df15588f9d3b9879fedccd2110d2cf6366b7"
   }
  }
 },
 "nbformat": 4,
 "nbformat_minor": 2
}
